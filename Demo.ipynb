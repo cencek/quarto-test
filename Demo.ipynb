{
  "cells": [
    {
      "cell_type": "raw",
      "metadata": {},
      "source": [
        "---\n",
        "title: Demo\n",
        "format:\n",
        "  html:\n",
        "    theme: yeti\n",
        "---"
      ],
      "id": "8a5daa4c"
    }
  ],
  "metadata": {
    "kernelspec": {
      "display_name": "Python 3",
      "language": "python",
      "name": "python3"
    }
  },
  "nbformat": 4,
  "nbformat_minor": 5
}